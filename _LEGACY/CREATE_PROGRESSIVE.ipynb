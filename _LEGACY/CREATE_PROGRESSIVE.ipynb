{
 "cells": [
  {
   "cell_type": "code",
   "execution_count": 3,
   "metadata": {
    "collapsed": false
   },
   "outputs": [
    {
     "name": "stdout",
     "output_type": "stream",
     "text": [
      "The autoreload extension is already loaded. To reload it, use:\n",
      "  %reload_ext autoreload\n"
     ]
    }
   ],
   "source": [
    "%load_ext autoreload\n",
    "%autoreload 2\n",
    "\n",
    "from threed import ThreeD\n",
    "import glob\n",
    "import os\n",
    "import numpy as np"
   ]
  },
  {
   "cell_type": "code",
   "execution_count": 13,
   "metadata": {
    "collapsed": false
   },
   "outputs": [
    {
     "name": "stdout",
     "output_type": "stream",
     "text": [
      "Generated X3D for 1139_0_0.stl\n",
      "Generated HTML for 1139_0_0.stl\n",
      "Generated X3D for 951_0_0.stl\n",
      "Generated HTML for 951_0_0.stl\n",
      "Stored index.html.\n"
     ]
    }
   ],
   "source": [
    "STLFOLDER = '/tmp/threeD/'\n",
    "X3DFOLDER = '/tmp/x3d'\n",
    "\n",
    "ThreeD.create_website(STLFOLDER, X3DFOLDER, [1139,951])"
   ]
  },
  {
   "cell_type": "code",
   "execution_count": 3,
   "metadata": {
    "collapsed": true
   },
   "outputs": [],
   "source": [
    "import xml.etree as etree\n"
   ]
  },
  {
   "cell_type": "code",
   "execution_count": 4,
   "metadata": {
    "collapsed": false
   },
   "outputs": [
    {
     "data": {
      "text/plain": [
       "<module 'xml.etree' from '/usr/lib/python2.7/xml/etree/__init__.pyc'>"
      ]
     },
     "execution_count": 4,
     "metadata": {},
     "output_type": "execute_result"
    }
   ],
   "source": []
  },
  {
   "cell_type": "code",
   "execution_count": null,
   "metadata": {
    "collapsed": true
   },
   "outputs": [],
   "source": [
    "#\n",
    "# Generate progressive geometries\n",
    "#\n",
    "\n",
    "\n",
    "#\n",
    "# Create index.html\n",
    "#\n",
    "\n",
    "\n"
   ]
  },
  {
   "cell_type": "code",
   "execution_count": null,
   "metadata": {
    "collapsed": true
   },
   "outputs": [],
   "source": []
  },
  {
   "cell_type": "code",
   "execution_count": null,
   "metadata": {
    "collapsed": true
   },
   "outputs": [],
   "source": []
  },
  {
   "cell_type": "code",
   "execution_count": 42,
   "metadata": {
    "collapsed": false
   },
   "outputs": [],
   "source": [
    "stl_files = sorted([os.path.basename(v) for v in glob.glob(os.path.join(STLFOLDER, '*.stl'))])"
   ]
  },
  {
   "cell_type": "code",
   "execution_count": 39,
   "metadata": {
    "collapsed": false
   },
   "outputs": [],
   "source": [
    "if not os.path.exists(X3DFOLDER):\n",
    "    os.makedirs(X3DFOLDER)"
   ]
  },
  {
   "cell_type": "code",
   "execution_count": 32,
   "metadata": {
    "collapsed": false
   },
   "outputs": [
    {
     "name": "stdout",
     "output_type": "stream",
     "text": [
      "Generated.\n"
     ]
    }
   ],
   "source": [
    "STL_INDEX = 0\n",
    "stl_file = os.path.join(STLFOLDER,stl_files[STL_INDEX])\n",
    "x3d_file = os.path.join(X3DFOLDER, stl_files[STL_INDEX].replace('.stl', '.x3d'))\n",
    "mipmaps_folder = stl_files[STL_INDEX].replace('.stl', '_')\n",
    "html_file = os.path.join(X3DFOLDER, stl_files[STL_INDEX].replace('.stl', '.html'))\n",
    "\n",
    "x3d_cmd = 'aopt -i '+ stl_file +' -x '+ x3d_file\n",
    "r = os.system(x3d_cmd)\n",
    "mipmap_cmd = 'aopt -i '+ x3d_file + ' -K ' + mipmaps_folder + ':pb -N '+ html_file\n",
    "r2 = os.system('cd ' + X3DFOLDER + ' && ' + mipmap_cmd)\n",
    "\n",
    "if r == 0 and r2 == 0:\n",
    "  print 'Generated.'"
   ]
  },
  {
   "cell_type": "code",
   "execution_count": 40,
   "metadata": {
    "collapsed": true
   },
   "outputs": [],
   "source": [
    "html_files = glob.glob(os.path.join(X3DFOLDER, '*.html'))"
   ]
  },
  {
   "cell_type": "code",
   "execution_count": 65,
   "metadata": {
    "collapsed": false
   },
   "outputs": [],
   "source": [
    "HTML_INDEX = 0\n",
    "\n",
    "e = etree.ElementTree.parse(html_files[HTML_INDEX]).getroot()\n",
    "geometrynode = e.find('.//popGeometry')\n",
    "geometrytext = etree.ElementTree.tostring(geometrynode)\n",
    "\n",
    "color = np.mod(107*id,700), np.mod(509*id,700), np.mod(200*id,700)"
   ]
  },
  {
   "cell_type": "code",
   "execution_count": 75,
   "metadata": {
    "collapsed": false
   },
   "outputs": [
    {
     "data": {
      "text/plain": [
       "['1068_0_0.stl',\n",
       " '1139_0_0.stl',\n",
       " '1161_0_0.stl',\n",
       " '1165_0_0.stl',\n",
       " '119_0_0.stl',\n",
       " '1200_0_0.stl',\n",
       " '1241_0_0.stl',\n",
       " '1266_0_0.stl',\n",
       " '1285_0_0.stl',\n",
       " '1305_0_0.stl',\n",
       " '1338_0_0.stl',\n",
       " '1339_0_0.stl',\n",
       " '1442_0_0.stl',\n",
       " '1469_0_0.stl',\n",
       " '146_0_0.stl',\n",
       " '1514_0_0.stl',\n",
       " '1522_0_0.stl',\n",
       " '1539_0_0.stl',\n",
       " '1556_0_0.stl',\n",
       " '1642_0_0.stl',\n",
       " '1659_0_0.stl',\n",
       " '1685_0_0.stl',\n",
       " '1747_0_0.stl',\n",
       " '1749_0_0.stl',\n",
       " '1866_0_0.stl',\n",
       " '1975_0_0.stl',\n",
       " '1_0_0.stl',\n",
       " '2054_0_0.stl',\n",
       " '2079_0_0.stl',\n",
       " '2104_0_0.stl',\n",
       " '2105_0_0.stl',\n",
       " '2133_0_0.stl',\n",
       " '2164_0_0.stl',\n",
       " '2166_0_0.stl',\n",
       " '2287_0_0.stl',\n",
       " '2309_0_0.stl',\n",
       " '2356_0_0.stl',\n",
       " '23_0_0.stl',\n",
       " '25_0_0.stl',\n",
       " '279_0_0.stl',\n",
       " '2_0_0.stl',\n",
       " '32_0_0.stl',\n",
       " '33_0_0.stl',\n",
       " '35_0_0.stl',\n",
       " '3_0_0.stl',\n",
       " '42_0_0.stl',\n",
       " '479_0_0.stl',\n",
       " '497_0_0.stl',\n",
       " '498_0_0.stl',\n",
       " '50_0_0.stl',\n",
       " '517_0_0.stl',\n",
       " '563_0_0.stl',\n",
       " '585_0_0.stl',\n",
       " '58_0_0.stl',\n",
       " '601_0_0.stl',\n",
       " '687_0_0.stl',\n",
       " '688_0_0.stl',\n",
       " '717_0_0.stl',\n",
       " '741_0_0.stl',\n",
       " '759_0_0.stl',\n",
       " '806_0_0.stl',\n",
       " '824_0_0.stl',\n",
       " '828_0_0.stl',\n",
       " '871_0_0.stl',\n",
       " '947_0_0.stl',\n",
       " '951_0_0.stl',\n",
       " '955_0_0.stl',\n",
       " '95_0_0.stl',\n",
       " '972_0_0.stl',\n",
       " '975_0_0.stl']"
      ]
     },
     "execution_count": 75,
     "metadata": {},
     "output_type": "execute_result"
    }
   ],
   "source": [
    "sorted([os.path.basename(v) for v in glob.glob(os.path.join(STLFOLDER, '*.stl'))])"
   ]
  },
  {
   "cell_type": "code",
   "execution_count": 68,
   "metadata": {
    "collapsed": true
   },
   "outputs": [],
   "source": [
    "import numpy as np\n",
    "def get_color(id):\n",
    "   return "
   ]
  },
  {
   "cell_type": "code",
   "execution_count": 69,
   "metadata": {
    "collapsed": false
   },
   "outputs": [
    {
     "data": {
      "text/plain": [
       "107"
      ]
     },
     "execution_count": 69,
     "metadata": {},
     "output_type": "execute_result"
    }
   ],
   "source": [
    "get_color(1)"
   ]
  },
  {
   "cell_type": "code",
   "execution_count": 111,
   "metadata": {
    "collapsed": false
   },
   "outputs": [
    {
     "name": "stdout",
     "output_type": "stream",
     "text": [
      "Generated X3D for 1139_0_0.stl\n",
      "Generated HTML for 1139_0_0.stl\n",
      "Generated X3D for 951_0_0.stl\n",
      "Generated HTML for 951_0_0.stl\n",
      "Stored index.html.\n"
     ]
    }
   ],
   "source": []
  },
  {
   "cell_type": "code",
   "execution_count": 104,
   "metadata": {
    "collapsed": false
   },
   "outputs": [
    {
     "name": "stdout",
     "output_type": "stream",
     "text": [
      "Generated X3D for 1068_0_0.stl\n",
      "Generated HTML for 1068_0_0.stl\n",
      "Generated X3D for 1139_0_0.stl\n",
      "Generated HTML for 1139_0_0.stl\n",
      "Generated X3D for 1161_0_0.stl\n",
      "Generated HTML for 1161_0_0.stl\n",
      "Generated X3D for 1165_0_0.stl\n",
      "Generated HTML for 1165_0_0.stl\n",
      "Generated X3D for 119_0_0.stl\n",
      "Generated HTML for 119_0_0.stl\n",
      "Generated X3D for 1200_0_0.stl\n",
      "Generated HTML for 1200_0_0.stl\n",
      "Generated X3D for 1241_0_0.stl\n",
      "Generated HTML for 1241_0_0.stl\n",
      "Generated X3D for 1266_0_0.stl\n",
      "Generated HTML for 1266_0_0.stl\n",
      "Generated X3D for 1285_0_0.stl\n",
      "Generated HTML for 1285_0_0.stl\n",
      "Generated X3D for 1305_0_0.stl\n",
      "Generated HTML for 1305_0_0.stl\n",
      "Generated X3D for 1338_0_0.stl\n",
      "Generated HTML for 1338_0_0.stl\n",
      "Generated X3D for 1339_0_0.stl\n",
      "Generated HTML for 1339_0_0.stl\n",
      "Generated X3D for 1442_0_0.stl\n",
      "Generated HTML for 1442_0_0.stl\n",
      "Generated X3D for 1469_0_0.stl\n",
      "Generated HTML for 1469_0_0.stl\n",
      "Generated X3D for 146_0_0.stl\n",
      "Generated HTML for 146_0_0.stl\n",
      "Generated X3D for 1514_0_0.stl\n",
      "Generated HTML for 1514_0_0.stl\n",
      "Generated X3D for 1522_0_0.stl\n",
      "Generated HTML for 1522_0_0.stl\n",
      "Generated X3D for 1539_0_0.stl\n",
      "Generated HTML for 1539_0_0.stl\n",
      "Generated X3D for 1556_0_0.stl\n",
      "Generated HTML for 1556_0_0.stl\n",
      "Generated X3D for 1642_0_0.stl\n",
      "Generated HTML for 1642_0_0.stl\n",
      "Generated X3D for 1659_0_0.stl\n",
      "Generated HTML for 1659_0_0.stl\n",
      "Generated X3D for 1685_0_0.stl\n",
      "Generated HTML for 1685_0_0.stl\n",
      "Generated X3D for 1747_0_0.stl\n",
      "Generated HTML for 1747_0_0.stl\n",
      "Generated X3D for 1749_0_0.stl\n",
      "Generated HTML for 1749_0_0.stl\n",
      "Generated X3D for 1866_0_0.stl\n",
      "Generated HTML for 1866_0_0.stl\n",
      "Generated X3D for 1975_0_0.stl\n",
      "Generated HTML for 1975_0_0.stl\n",
      "Generated X3D for 1_0_0.stl\n",
      "Generated HTML for 1_0_0.stl\n",
      "Generated X3D for 2054_0_0.stl\n",
      "Generated HTML for 2054_0_0.stl\n",
      "Generated X3D for 2079_0_0.stl\n",
      "Generated HTML for 2079_0_0.stl\n",
      "Generated X3D for 2104_0_0.stl\n",
      "Generated HTML for 2104_0_0.stl\n",
      "Generated X3D for 2105_0_0.stl\n",
      "Generated HTML for 2105_0_0.stl\n",
      "Generated X3D for 2133_0_0.stl\n",
      "Generated HTML for 2133_0_0.stl\n",
      "Generated X3D for 2164_0_0.stl\n",
      "Generated HTML for 2164_0_0.stl\n",
      "Generated X3D for 2166_0_0.stl\n",
      "Generated HTML for 2166_0_0.stl\n",
      "Generated X3D for 2287_0_0.stl\n",
      "Generated HTML for 2287_0_0.stl\n",
      "Generated X3D for 2309_0_0.stl\n",
      "Generated HTML for 2309_0_0.stl\n",
      "Generated X3D for 2356_0_0.stl\n",
      "Generated HTML for 2356_0_0.stl\n",
      "Generated X3D for 23_0_0.stl\n",
      "Generated HTML for 23_0_0.stl\n",
      "Generated X3D for 25_0_0.stl\n",
      "Generated HTML for 25_0_0.stl\n",
      "Generated X3D for 279_0_0.stl\n",
      "Generated HTML for 279_0_0.stl\n",
      "Generated X3D for 2_0_0.stl\n",
      "Generated HTML for 2_0_0.stl\n",
      "Generated X3D for 32_0_0.stl\n",
      "Generated HTML for 32_0_0.stl\n",
      "Generated X3D for 33_0_0.stl\n",
      "Generated HTML for 33_0_0.stl\n",
      "Generated X3D for 35_0_0.stl\n",
      "Generated HTML for 35_0_0.stl\n",
      "Generated X3D for 3_0_0.stl\n",
      "Generated HTML for 3_0_0.stl\n",
      "Generated X3D for 42_0_0.stl\n",
      "Generated HTML for 42_0_0.stl\n",
      "Generated X3D for 479_0_0.stl\n",
      "Generated HTML for 479_0_0.stl\n",
      "Generated X3D for 497_0_0.stl\n",
      "Generated HTML for 497_0_0.stl\n",
      "Generated X3D for 498_0_0.stl\n",
      "Generated HTML for 498_0_0.stl\n",
      "Generated X3D for 50_0_0.stl\n",
      "Generated HTML for 50_0_0.stl\n",
      "Generated X3D for 517_0_0.stl\n",
      "Generated HTML for 517_0_0.stl\n",
      "Generated X3D for 563_0_0.stl\n",
      "Generated HTML for 563_0_0.stl\n",
      "Generated X3D for 585_0_0.stl\n",
      "Generated HTML for 585_0_0.stl\n",
      "Generated X3D for 58_0_0.stl\n",
      "Generated HTML for 58_0_0.stl\n",
      "Generated X3D for 601_0_0.stl\n",
      "Generated HTML for 601_0_0.stl\n",
      "Generated X3D for 687_0_0.stl\n",
      "Generated HTML for 687_0_0.stl\n",
      "Generated X3D for 688_0_0.stl\n",
      "Generated HTML for 688_0_0.stl\n",
      "Generated X3D for 717_0_0.stl\n",
      "Generated HTML for 717_0_0.stl\n",
      "Generated X3D for 741_0_0.stl\n",
      "Generated HTML for 741_0_0.stl\n",
      "Generated X3D for 759_0_0.stl\n",
      "Generated HTML for 759_0_0.stl\n",
      "Generated X3D for 806_0_0.stl\n",
      "Generated HTML for 806_0_0.stl\n",
      "Generated X3D for 824_0_0.stl\n",
      "Generated HTML for 824_0_0.stl\n",
      "Generated X3D for 828_0_0.stl\n",
      "Generated HTML for 828_0_0.stl\n",
      "Generated X3D for 871_0_0.stl\n",
      "Generated HTML for 871_0_0.stl\n",
      "Generated X3D for 947_0_0.stl\n",
      "Generated HTML for 947_0_0.stl\n",
      "Generated X3D for 951_0_0.stl\n",
      "Generated HTML for 951_0_0.stl\n",
      "Generated X3D for 955_0_0.stl\n",
      "Generated HTML for 955_0_0.stl\n",
      "Generated X3D for 95_0_0.stl\n",
      "Generated HTML for 95_0_0.stl\n",
      "Generated X3D for 972_0_0.stl\n",
      "Generated HTML for 972_0_0.stl\n",
      "Generated X3D for 975_0_0.stl\n",
      "Generated HTML for 975_0_0.stl\n",
      "Stored index.html.\n"
     ]
    }
   ],
   "source": [
    "ThreeD.create_website(STLFOLDER, X3DFOLDER, None)"
   ]
  },
  {
   "cell_type": "code",
   "execution_count": null,
   "metadata": {
    "collapsed": true
   },
   "outputs": [],
   "source": []
  }
 ],
 "metadata": {
  "kernelspec": {
   "display_name": "Python 2",
   "language": "python",
   "name": "python2"
  },
  "language_info": {
   "codemirror_mode": {
    "name": "ipython",
    "version": 2
   },
   "file_extension": ".py",
   "mimetype": "text/x-python",
   "name": "python",
   "nbconvert_exporter": "python",
   "pygments_lexer": "ipython2",
   "version": "2.7.6"
  }
 },
 "nbformat": 4,
 "nbformat_minor": 0
}

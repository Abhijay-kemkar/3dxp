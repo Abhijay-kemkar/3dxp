{
 "cells": [
  {
   "cell_type": "code",
   "execution_count": 1,
   "metadata": {
    "collapsed": false
   },
   "outputs": [
    {
     "name": "stdout",
     "output_type": "stream",
     "text": [
      "Populating the interactive namespace from numpy and matplotlib\n"
     ]
    }
   ],
   "source": [
    "%pylab inline"
   ]
  },
  {
   "cell_type": "code",
   "execution_count": 2,
   "metadata": {
    "collapsed": true
   },
   "outputs": [],
   "source": [
    "from xml.etree import ElementTree\n",
    "import glob"
   ]
  },
  {
   "cell_type": "code",
   "execution_count": 3,
   "metadata": {
    "collapsed": false
   },
   "outputs": [],
   "source": [
    "files = glob.glob('/tmp/html/*_index.html')\n",
    "\n",
    "null_path = '/tmp/html/null.html'\n",
    "\n",
    "out_path = '/tmp/html/index.html'\n",
    "\n",
    "pattern = '<!-- {MESHES} -->'\n",
    "\n",
    "with open(null_path,'r') as f:\n",
    "    null = f.read()\n",
    "    "
   ]
  },
  {
   "cell_type": "code",
   "execution_count": 4,
   "metadata": {
    "collapsed": false
   },
   "outputs": [],
   "source": [
    "html_string = lambda s: ElementTree.tostring(s, method='html')\n"
   ]
  },
  {
   "cell_type": "code",
   "execution_count": 6,
   "metadata": {
    "collapsed": false
   },
   "outputs": [],
   "source": [
    "shapes = []\n",
    "\n",
    "for f in files:\n",
    "    shapes += ElementTree.parse(f).getroot().findall('.//group/transform/*')\n",
    "        \n",
    "grouptext = [html_string(shape) for shape in shapes]\n",
    "html_content = ''.join(grouptext)\n",
    "null = null.replace(pattern, html_content)\n",
    "\n",
    "with open(out_path, 'w') as f:\n",
    "    f.write(null)"
   ]
  },
  {
   "cell_type": "code",
   "execution_count": null,
   "metadata": {
    "collapsed": true
   },
   "outputs": [],
   "source": []
  }
 ],
 "metadata": {
  "kernelspec": {
   "display_name": "Python 2",
   "language": "python",
   "name": "python2"
  },
  "language_info": {
   "codemirror_mode": {
    "name": "ipython",
    "version": 2
   },
   "file_extension": ".py",
   "mimetype": "text/x-python",
   "name": "python",
   "nbconvert_exporter": "python",
   "pygments_lexer": "ipython2",
   "version": "2.7.6"
  }
 },
 "nbformat": 4,
 "nbformat_minor": 0
}

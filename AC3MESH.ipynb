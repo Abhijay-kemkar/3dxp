{
 "cells": [
  {
   "cell_type": "code",
   "execution_count": 1,
   "metadata": {
    "collapsed": false
   },
   "outputs": [
    {
     "name": "stderr",
     "output_type": "stream",
     "text": [
      "/home/d/nolearn/local/lib/python2.7/site-packages/matplotlib/font_manager.py:273: UserWarning: Matplotlib is building the font cache using fc-list. This may take a moment.\n",
      "  warnings.warn('Matplotlib is building the font cache using fc-list. This may take a moment.')\n"
     ]
    }
   ],
   "source": [
    "import os\n",
    "import h5py\n",
    "import mahotas as mh\n",
    "import numpy as np\n",
    "\n",
    "from skimage import measure\n",
    "from stl import mesh\n",
    "\n",
    "\n",
    "\n",
    "import matplotlib as plt\n",
    "from matplotlib.pyplot import imshow\n",
    "%matplotlib inline"
   ]
  },
  {
   "cell_type": "code",
   "execution_count": 8,
   "metadata": {
    "collapsed": true
   },
   "outputs": [],
   "source": [
    "DATA = '/home/d/data/ac3x75/mojo/ids/tiles/w=00000000/'\n"
   ]
  },
  {
   "cell_type": "code",
   "execution_count": null,
   "metadata": {
    "collapsed": false
   },
   "outputs": [],
   "source": []
  },
  {
   "cell_type": "code",
   "execution_count": 5,
   "metadata": {
    "collapsed": true
   },
   "outputs": [],
   "source": [
    "def threshold(arr, val):\n",
    "    out = np.zeros((arr.shape[0], arr.shape[1]), dtype=np.bool)\n",
    "    out[arr == val] = 1\n",
    "    return out"
   ]
  },
  {
   "cell_type": "code",
   "execution_count": 19,
   "metadata": {
    "collapsed": true
   },
   "outputs": [],
   "source": [
    "def store_mesh(arr, filename):\n",
    "    \n",
    "    verts, faces = measure.marching_cubes(arr, 0, spacing=(10.,1.,1.),gradient_direction='ascent')\n",
    "    applied_verts = verts[faces]\n",
    "    \n",
    "    mesh_data = np.zeros(applied_verts.shape[0], dtype=mesh.Mesh.dtype)\n",
    "    \n",
    "    print 'Converting', applied_verts.shape[0], 'vertices'\n",
    "    for i, v in enumerate(applied_verts):\n",
    "        mesh_data[i][1][0] = v[0]\n",
    "        mesh_data[i][1][1] = v[1]\n",
    "        mesh_data[i][1][2] = v[2]\n",
    "        \n",
    "    m = mesh.Mesh(mesh_data)\n",
    "    with open(filename, 'w') as f:\n",
    "        m.save(filename, f)\n",
    "        \n",
    "    print 'Saved.'\n",
    "    \n",
    "    return m"
   ]
  },
  {
   "cell_type": "code",
   "execution_count": 11,
   "metadata": {
    "collapsed": false,
    "scrolled": true
   },
   "outputs": [
    {
     "name": "stdout",
     "output_type": "stream",
     "text": [
      "loaded 0\n",
      "loaded 1\n",
      "loaded 2\n",
      "loaded 3\n",
      "loaded 4\n",
      "loaded 5\n",
      "loaded 6\n",
      "loaded 7\n",
      "loaded 8\n",
      "loaded 9\n",
      "loaded 10\n",
      "loaded 11\n",
      "loaded 12\n",
      "loaded 13\n",
      "loaded 14\n",
      "loaded 15\n",
      "loaded 16\n",
      "loaded 17\n",
      "loaded 18\n",
      "loaded 19\n",
      "loaded 20\n",
      "loaded 21\n",
      "loaded 22\n",
      "loaded 23\n",
      "loaded 24\n",
      "loaded 25\n",
      "loaded 26\n",
      "loaded 27\n",
      "loaded 28\n",
      "loaded 29\n",
      "loaded 30\n",
      "loaded 31\n",
      "loaded 32\n",
      "loaded 33\n",
      "loaded 34\n",
      "loaded 35\n",
      "loaded 36\n",
      "loaded 37\n",
      "loaded 38\n",
      "loaded 39\n",
      "loaded 40\n",
      "loaded 41\n",
      "loaded 42\n",
      "loaded 43\n",
      "loaded 44\n",
      "loaded 45\n",
      "loaded 46\n",
      "loaded 47\n",
      "loaded 48\n",
      "loaded 49\n",
      "loaded 50\n",
      "loaded 51\n",
      "loaded 52\n",
      "loaded 53\n",
      "loaded 54\n",
      "loaded 55\n",
      "loaded 56\n",
      "loaded 57\n",
      "loaded 58\n",
      "loaded 59\n",
      "loaded 60\n",
      "loaded 61\n",
      "loaded 62\n",
      "loaded 63\n",
      "loaded 64\n",
      "loaded 65\n",
      "loaded 66\n",
      "loaded 67\n",
      "loaded 68\n",
      "loaded 69\n",
      "loaded 70\n",
      "loaded 71\n",
      "loaded 72\n",
      "loaded 73\n",
      "loaded 74\n"
     ]
    }
   ],
   "source": [
    "NEURON_ID = 3036\n",
    "# X_SHAPE = 8192\n",
    "# Y_SHAPE = 8192\n",
    "X_SHAPE=1024\n",
    "Y_SHAPE=1024\n",
    "Z_SHAPE = (0,75)\n",
    "\n",
    "thresholded_3d = np.zeros((Z_SHAPE[1], Y_SHAPE, X_SHAPE), dtype=np.bool)\n",
    "# threed = np.zeros((Z_SHAPE[1], Y_SHAPE, X_SHAPE), dtype=np.uint64)\n",
    "\n",
    "\n",
    "for SLICE in range(Z_SHAPE[0], Z_SHAPE[1]):\n",
    "\n",
    "    img = np.zeros((Y_SHAPE,X_SHAPE), dtype=np.uint64)\n",
    "    tiles = sorted(os.listdir(os.path.join(DATA, 'z='+str(SLICE).zfill(8))))\n",
    "    \n",
    "    \n",
    "    for t in tiles:\n",
    "        \n",
    "        if t.startswith('.'):\n",
    "            continue\n",
    "        \n",
    "        filepath = os.path.join(DATA, 'z='+str(SLICE).zfill(8), t)\n",
    "        y = int(t.split(',')[0].split('=')[1])\n",
    "        x = int(t.split(',')[1].split('=')[1].split('.')[0])\n",
    "        with h5py.File(filepath, 'r') as f:\n",
    "            data = f.get('IdMap')\n",
    "            img[y*512:y*512+512, x*512:x*512+512] = data\n",
    "\n",
    "    # now threshold this bad boy\n",
    "    thresholded_slice = threshold(img, NEURON_ID)\n",
    "    thresholded_3d[SLICE] = thresholded_slice\n",
    "#     threed[SLICE] = img\n",
    "    \n",
    "    print 'loaded', SLICE\n",
    "            "
   ]
  },
  {
   "cell_type": "code",
   "execution_count": 12,
   "metadata": {
    "collapsed": false
   },
   "outputs": [
    {
     "data": {
      "text/plain": [
       "<matplotlib.image.AxesImage at 0x7f9b741e3e90>"
      ]
     },
     "execution_count": 12,
     "metadata": {},
     "output_type": "execute_result"
    },
    {
     "data": {
      "image/png": "[encoded data removed]",
      "text/plain": [
       "<matplotlib.figure.Figure at 0x7f9b742ad710>"
      ]
     },
     "metadata": {},
     "output_type": "display_data"
    }
   ],
   "source": [
    "imshow(thresholded_3d[0])"
   ]
  },
  {
   "cell_type": "code",
   "execution_count": null,
   "metadata": {
    "collapsed": true
   },
   "outputs": [],
   "source": []
  },
  {
   "cell_type": "code",
   "execution_count": null,
   "metadata": {
    "collapsed": true
   },
   "outputs": [],
   "source": []
  },
  {
   "cell_type": "code",
   "execution_count": null,
   "metadata": {
    "collapsed": true
   },
   "outputs": [],
   "source": []
  },
  {
   "cell_type": "code",
   "execution_count": null,
   "metadata": {
    "collapsed": true
   },
   "outputs": [],
   "source": []
  },
  {
   "cell_type": "code",
   "execution_count": 16,
   "metadata": {
    "collapsed": false
   },
   "outputs": [
    {
     "name": "stdout",
     "output_type": "stream",
     "text": [
      "Converting 1119246 vertices\n",
      "Saved.\n"
     ]
    }
   ],
   "source": [
    "m1 = store_mesh(thresholded_3d, '/home/d/data/neurons/'+str(NEURON_ID)+'.stl')"
   ]
  },
  {
   "cell_type": "code",
   "execution_count": 20,
   "metadata": {
    "collapsed": false
   },
   "outputs": [
    {
     "name": "stdout",
     "output_type": "stream",
     "text": [
      "Converting 1119246 vertices\n",
      "Saved.\n"
     ]
    }
   ],
   "source": [
    "m1 = store_mesh(thresholded_3d, '/home/d/data/neurons/'+str(NEURON_ID)+'.stl')"
   ]
  },
  {
   "cell_type": "code",
   "execution_count": null,
   "metadata": {
    "collapsed": true
   },
   "outputs": [],
   "source": []
  },
  {
   "cell_type": "code",
   "execution_count": null,
   "metadata": {
    "collapsed": true
   },
   "outputs": [],
   "source": []
  },
  {
   "cell_type": "code",
   "execution_count": 47,
   "metadata": {
    "collapsed": true
   },
   "outputs": [],
   "source": [
    "from mpl_toolkits import mplot3d\n",
    "from matplotlib import pyplot"
   ]
  },
  {
   "cell_type": "code",
   "execution_count": null,
   "metadata": {
    "collapsed": false
   },
   "outputs": [],
   "source": [
    "\n",
    "# Create a new plot\n",
    "figure = pyplot.figure()\n",
    "axes = mplot3d.Axes3D(figure)\n",
    "\n",
    "# Load the STL files and add the vectors to the plot\n",
    "# your_mesh = mesh.Mesh.from_file('tests/stl_binary/HalfDonut.stl')\n",
    "axes.add_collection3d(mplot3d.art3d.Poly3DCollection(m1.vectors))\n",
    "\n",
    "# Auto scale to the mesh size\n",
    "scale = m1.points.flatten(-1)\n",
    "axes.auto_scale_xyz(scale, scale, scale)\n",
    "\n",
    "# Show the plot to the screen\n",
    "pyplot.show()"
   ]
  },
  {
   "cell_type": "code",
   "execution_count": null,
   "metadata": {
    "collapsed": true
   },
   "outputs": [],
   "source": []
  },
  {
   "cell_type": "code",
   "execution_count": null,
   "metadata": {
    "collapsed": true
   },
   "outputs": [],
   "source": []
  },
  {
   "cell_type": "code",
   "execution_count": null,
   "metadata": {
    "collapsed": true
   },
   "outputs": [],
   "source": []
  },
  {
   "cell_type": "code",
   "execution_count": 23,
   "metadata": {
    "collapsed": false
   },
   "outputs": [
    {
     "data": {
      "text/plain": [
       "<matplotlib.image.AxesImage at 0x7f23f2030950>"
      ]
     },
     "execution_count": 23,
     "metadata": {},
     "output_type": "execute_result"
    },
    {
     "data": {
      "image/png": "[encoded data removed]",
      "text/plain": [
       "<matplotlib.figure.Figure at 0x7f2407e73f50>"
      ]
     },
     "metadata": {},
     "output_type": "display_data"
    }
   ],
   "source": [
    "imshow(img, cmap='gray')"
   ]
  },
  {
   "cell_type": "code",
   "execution_count": 26,
   "metadata": {
    "collapsed": false
   },
   "outputs": [
    {
     "data": {
      "text/plain": [
       "55260"
      ]
     },
     "execution_count": 26,
     "metadata": {},
     "output_type": "execute_result"
    }
   ],
   "source": [
    "img[4500,2700]"
   ]
  },
  {
   "cell_type": "code",
   "execution_count": 35,
   "metadata": {
    "collapsed": false
   },
   "outputs": [
    {
     "data": {
      "text/plain": [
       "<matplotlib.image.AxesImage at 0x7f21d0b150d0>"
      ]
     },
     "execution_count": 35,
     "metadata": {},
     "output_type": "execute_result"
    },
    {
     "data": {
      "image/png": "[encoded data removed]",
      "text/plain": [
       "<matplotlib.figure.Figure at 0x7f21d0b98850>"
      ]
     },
     "metadata": {},
     "output_type": "display_data"
    }
   ],
   "source": [
    "imshow(thresholded_3d[80])"
   ]
  },
  {
   "cell_type": "code",
   "execution_count": 29,
   "metadata": {
    "collapsed": false
   },
   "outputs": [
    {
     "data": {
      "text/plain": [
       "67108864"
      ]
     },
     "execution_count": 29,
     "metadata": {},
     "output_type": "execute_result"
    }
   ],
   "source": [
    "threshold(img, 55260).nbytes"
   ]
  },
  {
   "cell_type": "code",
   "execution_count": 30,
   "metadata": {
    "collapsed": false
   },
   "outputs": [
    {
     "data": {
      "text/plain": [
       "536870912"
      ]
     },
     "execution_count": 30,
     "metadata": {},
     "output_type": "execute_result"
    }
   ],
   "source": [
    "img.nbytes"
   ]
  },
  {
   "cell_type": "code",
   "execution_count": 39,
   "metadata": {
    "collapsed": false
   },
   "outputs": [
    {
     "data": {
      "text/plain": [
       "array([[   0,   36,    0, 8192,    0, 8192],\n",
       "       [   0,   36, 1842, 7615, 1256, 4333]])"
      ]
     },
     "execution_count": 39,
     "metadata": {},
     "output_type": "execute_result"
    }
   ],
   "source": [
    "mh.labeled.bbox(thresholded_3d)"
   ]
  },
  {
   "cell_type": "code",
   "execution_count": 40,
   "metadata": {
    "collapsed": true
   },
   "outputs": [],
   "source": [
    "bb = [   0,   36, 1842, 7615, 1256, 4333]"
   ]
  },
  {
   "cell_type": "code",
   "execution_count": 41,
   "metadata": {
    "collapsed": true
   },
   "outputs": [],
   "source": [
    "cropped_3d = thresholded_3d[bb[0]:bb[1], bb[2]:bb[3], bb[4]:bb[5]]"
   ]
  },
  {
   "cell_type": "code",
   "execution_count": 44,
   "metadata": {
    "collapsed": false
   },
   "outputs": [
    {
     "name": "stdout",
     "output_type": "stream",
     "text": [
      "Converting 16404281 vertices\n",
      "Saved.\n"
     ]
    }
   ],
   "source": [
    "store_mesh(cropped_3d, '/home/d/data/neurons/'+str(NEURON_ID)+'.stl')"
   ]
  },
  {
   "cell_type": "code",
   "execution_count": 48,
   "metadata": {
    "collapsed": false
   },
   "outputs": [
    {
     "name": "stdout",
     "output_type": "stream",
     "text": [
      "Converting 572743 vertices\n",
      "Saved.\n"
     ]
    }
   ],
   "source": [
    "store_mesh(thresholded_3d, '/home/d/data/neurons/'+str(NEURON_ID)+'_512.stl')"
   ]
  },
  {
   "cell_type": "code",
   "execution_count": 6,
   "metadata": {
    "collapsed": true
   },
   "outputs": [],
   "source": [
    "import nibabel as nib"
   ]
  },
  {
   "cell_type": "code",
   "execution_count": 12,
   "metadata": {
    "collapsed": false
   },
   "outputs": [],
   "source": [
    "affine = np.diag([1, 1, 1, 1])\n",
    "a_i = nib.Nifti1Image(thresholded_3d.astype(np.uint8), affine)"
   ]
  },
  {
   "cell_type": "code",
   "execution_count": 13,
   "metadata": {
    "collapsed": true
   },
   "outputs": [],
   "source": [
    "nib.save(a_i, '/tmp/out2.nii')"
   ]
  },
  {
   "cell_type": "code",
   "execution_count": 10,
   "metadata": {
    "collapsed": false
   },
   "outputs": [
    {
     "data": {
      "text/plain": [
       "(700, 512, 512)"
      ]
     },
     "execution_count": 10,
     "metadata": {},
     "output_type": "execute_result"
    }
   ],
   "source": [
    "thresholded_3d.shape"
   ]
  },
  {
   "cell_type": "code",
   "execution_count": 15,
   "metadata": {
    "collapsed": true
   },
   "outputs": [],
   "source": [
    "affine = np.diag([1, 1, 1, 1])\n",
    "a_i = nib.Nifti1Image(threed, affine)"
   ]
  },
  {
   "cell_type": "code",
   "execution_count": 16,
   "metadata": {
    "collapsed": true
   },
   "outputs": [],
   "source": [
    "nib.save(a_i, '/tmp/out3.nii')"
   ]
  },
  {
   "cell_type": "code",
   "execution_count": 40,
   "metadata": {
    "collapsed": false
   },
   "outputs": [],
   "source": [
    "h = mh.fullhistogram(threed)"
   ]
  },
  {
   "cell_type": "code",
   "execution_count": 41,
   "metadata": {
    "collapsed": false
   },
   "outputs": [],
   "source": [
    "large_segments = np.where(h>10000)[0]\n",
    "seg_255 = large_segments[-255:]\n",
    "threed_8bit = np.zeros((threed.shape[0], threed.shape[1], threed.shape[2]), dtype=np.uint8)\n",
    "\n",
    "for i,s in enumerate(seg_255):\n",
    "    threed_8bit[threed==s] = i"
   ]
  },
  {
   "cell_type": "code",
   "execution_count": 42,
   "metadata": {
    "collapsed": false
   },
   "outputs": [],
   "source": [
    "affine = np.diag([1, 1, 1, 1])\n",
    "a_i = nib.Nifti1Image(threed_8bit[:,0:1000,0:1000], affine)\n",
    "nib.save(a_i, '/tmp/out8bit_small.nii')"
   ]
  },
  {
   "cell_type": "code",
   "execution_count": null,
   "metadata": {
    "collapsed": true
   },
   "outputs": [],
   "source": []
  }
 ],
 "metadata": {
  "kernelspec": {
   "display_name": "Python 2",
   "language": "python",
   "name": "python2"
  },
  "language_info": {
   "codemirror_mode": {
    "name": "ipython",
    "version": 2
   },
   "file_extension": ".py",
   "mimetype": "text/x-python",
   "name": "python",
   "nbconvert_exporter": "python",
   "pygments_lexer": "ipython2",
   "version": "2.7.6"
  }
 },
 "nbformat": 4,
 "nbformat_minor": 0
}

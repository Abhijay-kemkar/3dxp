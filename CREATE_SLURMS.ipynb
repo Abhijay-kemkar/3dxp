{
 "cells": [
  {
   "cell_type": "code",
   "execution_count": 1,
   "metadata": {
    "collapsed": false
   },
   "outputs": [],
   "source": [
    "%load_ext autoreload\n",
    "%autoreload 2\n",
    "\n",
    "from threed import ThreeD\n",
    "import h5py"
   ]
  },
  {
   "cell_type": "code",
   "execution_count": 19,
   "metadata": {
    "collapsed": true
   },
   "outputs": [],
   "source": [
    "import math"
   ]
  },
  {
   "cell_type": "code",
   "execution_count": 2,
   "metadata": {
    "collapsed": false
   },
   "outputs": [],
   "source": [
    "LOCAL_DATA = '/home/john/2017/data/bf/jan_push/8x_downsampled_segmentation.h5'\n",
    "CLUSTER_DATA = '/n/coxfs01/leek/dropbox/8x_downsampled_segmentation.h5'\n",
    "CLUSTER_STL_OUTPUT = '/n/coxfs01/haehn/downsampledSTLs/'\n",
    "TILEWIDTH = 512"
   ]
  },
  {
   "cell_type": "code",
   "execution_count": 4,
   "metadata": {
    "collapsed": false
   },
   "outputs": [],
   "source": [
    "with h5py.File(LOCAL_DATA, 'r') as f:\n",
    "    shape = f[f.keys()[0]].shape"
   ]
  },
  {
   "cell_type": "code",
   "execution_count": 25,
   "metadata": {
    "collapsed": false
   },
   "outputs": [],
   "source": [
    "# assume X,Y equal right now\n",
    "tiles_Z = range(int(math.ceil(shape[0] / float(TILEWIDTH))))\n",
    "tiles_Y = range(int(math.ceil(shape[1] / float(TILEWIDTH))))\n",
    "tiles_X = range(int(math.ceil(shape[2] / float(TILEWIDTH))))"
   ]
  },
  {
   "cell_type": "code",
   "execution_count": 6,
   "metadata": {
    "collapsed": false
   },
   "outputs": [
    {
     "name": "stdout",
     "output_type": "stream",
     "text": [
      "MB 3716\n"
     ]
    }
   ],
   "source": [
    "# we assume the following memory\n",
    "bytes = TILEWIDTH * TILEWIDTH * shape[0] * 8\n",
    "print 'MB', bytes / 1000000\n",
    "# and we take 4 times as large just to be safe\n",
    "# OOOPS we need more.. let's try 10*\n",
    "memory = 30 * bytes / 1000000"
   ]
  },
  {
   "cell_type": "code",
   "execution_count": 27,
   "metadata": {
    "collapsed": false
   },
   "outputs": [],
   "source": [
    "# SLURM TEMPLATE\n",
    "t = '''#!/bin/bash\n",
    "#\n",
    "# add all other SBATCH directives here...\n",
    "#\n",
    "#SBATCH -p cox\n",
    "#SBATCH -n 1 # Number of cores\n",
    "#SBATCH -N 1 # Ensure that all cores are on one machine #SBITCH --gres=gpu\n",
    "#SBATCH --mem=10000#{MEMORY}\n",
    "#SBATCH -t 10-12:00\n",
    "#SBATCH --mail-type=ALL\n",
    "#SBATCH --mail-user=haehn@seas.harvard.edu\n",
    "#SBATCH -o /n/home05/haehn/SLURM/out-mesh-{Z}-{Y}-{X}.txt\n",
    "#SBATCH -e /n/home05/haehn/SLURM/err-mesh-{Z}-{Y}-{X}.txt\n",
    "\n",
    "source new-modules.sh\n",
    "module load Anaconda/2.5.0-fasrc01\n",
    "module load gcc/4.9.0-fasrc01\n",
    "\n",
    "# custom HDF5 lib\n",
    "export LIBRARY_PATH=/n/home05/haehn/nolearncox/src/hdf5-1.8.17/hdf5/lib:$LIBRARY_PATH\n",
    "export LD_LIBRARY_PATH=/n/home05/haehn/nolearncox/src/hdf5-1.8.17/hdf5/lib:$LD_LIBRARY_PATH\n",
    "export CPATH=/n/home05/haehn/nolearncox/src/hdf5-1.8.17/hdf5/include:$CPATH\n",
    "export FPATH=/n/home05/haehn/nolearncox/src/hdf5-1.8.17/hdf5/include:$FPATH\n",
    "\n",
    "source /n/home05/haehn/nolearncox/bin/activate\n",
    "\n",
    "\n",
    "cd /n/home05/haehn/Projects/3dxp/\n",
    "python threed.py {DATAPATH} {Z} {Y} {X} {OUTPUTPATH} {TILEWIDTH} \"{ALL_IDS}\"\n",
    "\n",
    "# end of program\n",
    "exit 0;\n",
    "'''"
   ]
  },
  {
   "cell_type": "code",
   "execution_count": 28,
   "metadata": {
    "collapsed": true
   },
   "outputs": [],
   "source": [
    "ALL_IDS = \"49146 49266 50513 51536 54306 68584 81359 91293 114967 117847 123959 151877 163906\""
   ]
  },
  {
   "cell_type": "code",
   "execution_count": 30,
   "metadata": {
    "collapsed": false
   },
   "outputs": [],
   "source": [
    "for Z in tiles_Z:\n",
    "    for Y in tiles_Y:\n",
    "        for X in tiles_X:\n",
    "\n",
    "            t2 = t.replace('{MEMORY}', str(memory))\n",
    "            t2 = t2.replace('{DATAPATH}', str(CLUSTER_DATA))\n",
    "            t2 = t2.replace('{X}', str(X))\n",
    "            t2 = t2.replace('{Y}', str(Y))\n",
    "            t2 = t2.replace('{Z}', str(Z))\n",
    "            t2 = t2.replace('{OUTPUTPATH}', str(CLUSTER_STL_OUTPUT))  \n",
    "            t2 = t2.replace('{TILEWIDTH}', str(TILEWIDTH))\n",
    "            t2 = t2.replace('{ALL_IDS}', ALL_IDS)\n",
    "\n",
    "            with open('SLURM/mesh-'+str(Z)+'-'+str(Y)+'-'+str(X)+'.slurm', 'w') as f:\n",
    "                f.write(t2)"
   ]
  },
  {
   "cell_type": "code",
   "execution_count": null,
   "metadata": {
    "collapsed": true
   },
   "outputs": [],
   "source": [
    "# LAUNCH ALL SLURMS WITH\n",
    "# for f in *.slurm; do sbatch $f; done"
   ]
  },
  {
   "cell_type": "code",
   "execution_count": 65,
   "metadata": {
    "collapsed": false
   },
   "outputs": [
    {
     "data": {
      "text/plain": [
       "6720"
      ]
     },
     "execution_count": 65,
     "metadata": {},
     "output_type": "execute_result"
    }
   ],
   "source": [
    "memory"
   ]
  },
  {
   "cell_type": "code",
   "execution_count": 15,
   "metadata": {
    "collapsed": false
   },
   "outputs": [
    {
     "data": {
      "text/plain": [
       "[0, 1, 2]"
      ]
     },
     "execution_count": 15,
     "metadata": {},
     "output_type": "execute_result"
    }
   ],
   "source": [
    "tiles_Z"
   ]
  },
  {
   "cell_type": "code",
   "execution_count": null,
   "metadata": {
    "collapsed": true
   },
   "outputs": [],
   "source": []
  }
 ],
 "metadata": {
  "kernelspec": {
   "display_name": "Python 2",
   "language": "python",
   "name": "python2"
  },
  "language_info": {
   "codemirror_mode": {
    "name": "ipython",
    "version": 2
   },
   "file_extension": ".py",
   "mimetype": "text/x-python",
   "name": "python",
   "nbconvert_exporter": "python",
   "pygments_lexer": "ipython2",
   "version": "2.7.6"
  }
 },
 "nbformat": 4,
 "nbformat_minor": 0
}

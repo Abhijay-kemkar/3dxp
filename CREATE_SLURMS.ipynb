{
 "cells": [
  {
   "cell_type": "code",
   "execution_count": 2,
   "metadata": {
    "collapsed": false
   },
   "outputs": [
    {
     "name": "stdout",
     "output_type": "stream",
     "text": [
      "The autoreload extension is already loaded. To reload it, use:\n",
      "  %reload_ext autoreload\n"
     ]
    }
   ],
   "source": [
    "%load_ext autoreload\n",
    "%autoreload 2\n",
    "\n",
    "from threed import ThreeD\n",
    "import h5py"
   ]
  },
  {
   "cell_type": "code",
   "execution_count": 40,
   "metadata": {
    "collapsed": false
   },
   "outputs": [],
   "source": [
    "LOCAL_DATA = '/home/d/data/toufiq/segmentation.h5'\n",
    "CLUSTER_DATA = '/n/coxfs01/leek/results/ECS_iarpa_20u_cube/segmentation.h5'\n",
    "CLUSTER_STL_OUTPUT = '/n/coxfs01/haehn/STLs/'\n",
    "TILEWIDTH = 1024"
   ]
  },
  {
   "cell_type": "code",
   "execution_count": 20,
   "metadata": {
    "collapsed": false
   },
   "outputs": [],
   "source": [
    "with h5py.File(LOCAL_DATA, 'r') as f:\n",
    "    shape = f[f.keys()[0]].shape"
   ]
  },
  {
   "cell_type": "code",
   "execution_count": 38,
   "metadata": {
    "collapsed": false
   },
   "outputs": [],
   "source": [
    "# assume X,Y equal right now\n",
    "tiles_Y = range(int(round(shape[1] / float(TILEWIDTH))))\n",
    "tiles_X = range(int(round(shape[2] / float(TILEWIDTH))))"
   ]
  },
  {
   "cell_type": "code",
   "execution_count": 29,
   "metadata": {
    "collapsed": false
   },
   "outputs": [
    {
     "name": "stdout",
     "output_type": "stream",
     "text": [
      "MB 5872\n"
     ]
    }
   ],
   "source": [
    "# we assume the following memory\n",
    "bytes = TILEWIDTH * TILEWIDTH * shape[0] * 8\n",
    "print 'MB', bytes / 1000000\n",
    "# and we take 4 times as large just to be safe\n",
    "memory = 4 * bytes / 1000000"
   ]
  },
  {
   "cell_type": "code",
   "execution_count": 36,
   "metadata": {
    "collapsed": false
   },
   "outputs": [],
   "source": [
    "# SLURM TEMPLATE\n",
    "t = '''#!/bin/bash\n",
    "#\n",
    "# add all other SBATCH directives here...\n",
    "#\n",
    "#SBATCH -p cox\n",
    "#SBATCH -n 1 # Number of cores\n",
    "#SBATCH -N 1 # Ensure that all cores are on one machine #SBITCH --gres=gpu\n",
    "#SBATCH --mem={MEMORY}\n",
    "#SBATCH -t 10-12:00\n",
    "#SBATCH --mail-type=ALL\n",
    "#SBATCH --mail-user=haehn@seas.harvard.edu\n",
    "#SBATCH -o /n/home05/haehn/SLURM/out-mesh-{Y}-{X}.txt\n",
    "#SBATCH -e /n/home05/haehn/SLURM/err-mesh-{Y}-{X}.txt\n",
    "\n",
    "source new-modules.sh\n",
    "module load Anaconda/2.5.0-fasrc01\n",
    "module load gcc/4.9.0-fasrc01\n",
    "\n",
    "# custom HDF5 lib\n",
    "export LIBRARY_PATH=/n/home05/haehn/nolearncox/src/hdf5-1.8.17/hdf5/lib:$LIBRARY_PATH\n",
    "export LD_LIBRARY_PATH=/n/home05/haehn/nolearncox/src/hdf5-1.8.17/hdf5/lib:$LD_LIBRARY_PATH\n",
    "export CPATH=/n/home05/haehn/nolearncox/src/hdf5-1.8.17/hdf5/include:$CPATH\n",
    "export FPATH=/n/home05/haehn/nolearncox/src/hdf5-1.8.17/hdf5/include:$FPATH\n",
    "\n",
    "source /n/home05/haehn/nolearncox/bin/activate\n",
    "\n",
    "\n",
    "cd /n/home05/haehn/Projects/3dxp/\n",
    "python threed.py {DATAPATH} {Y} {X} {OUTPUTPATH}\n",
    "\n",
    "# end of program\n",
    "exit 0;\n",
    "'''"
   ]
  },
  {
   "cell_type": "code",
   "execution_count": 41,
   "metadata": {
    "collapsed": false
   },
   "outputs": [],
   "source": [
    "for Y in tiles_Y:\n",
    "    for X in tiles_X:\n",
    "\n",
    "        t2 = t.replace('{MEMORY}', str(memory))\n",
    "        t2 = t2.replace('{DATAPATH}', str(CLUSTER_DATA))\n",
    "        t2 = t2.replace('{X}', str(X))\n",
    "        t2 = t2.replace('{Y}', str(Y))\n",
    "        t2 = t2.replace('{OUTPUTPATH}', str(CLUSTER_STL_OUTPUT))        \n",
    "        \n",
    "        with open('SLURM/mesh-'+str(Y)+'-'+str(X)+'.slurm', 'w') as f:\n",
    "            f.write(t2)"
   ]
  },
  {
   "cell_type": "code",
   "execution_count": null,
   "metadata": {
    "collapsed": true
   },
   "outputs": [],
   "source": []
  }
 ],
 "metadata": {
  "kernelspec": {
   "display_name": "Python 2",
   "language": "python",
   "name": "python2"
  },
  "language_info": {
   "codemirror_mode": {
    "name": "ipython",
    "version": 2
   },
   "file_extension": ".py",
   "mimetype": "text/x-python",
   "name": "python",
   "nbconvert_exporter": "python",
   "pygments_lexer": "ipython2",
   "version": "2.7.6"
  }
 },
 "nbformat": 4,
 "nbformat_minor": 0
}

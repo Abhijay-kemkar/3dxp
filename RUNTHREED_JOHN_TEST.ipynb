{
 "cells": [
  {
   "cell_type": "code",
   "execution_count": 1,
   "metadata": {
    "collapsed": false
   },
   "outputs": [],
   "source": [
    "%load_ext autoreload\n",
    "%autoreload 2\n",
    "\n",
    "from threed import ThreeD"
   ]
  },
  {
   "cell_type": "code",
   "execution_count": 2,
   "metadata": {
    "collapsed": true
   },
   "outputs": [],
   "source": [
    "STLFOLDER = '/home/john/2017/data/3dxp/jan_push/stl/'#'/tmp/threeDNEW/'\n",
    "X3DFOLDER = '/tmp/johnX3D/'"
   ]
  },
  {
   "cell_type": "code",
   "execution_count": 3,
   "metadata": {
    "collapsed": false
   },
   "outputs": [
    {
     "name": "stdout",
     "output_type": "stream",
     "text": [
      "Generated X3D for 50513_1_0_0.stl\n",
      "Generated HTML for 50513_1_0_0.stl\n",
      "Generated X3D for 50513_0_1_1.stl\n",
      "Generated HTML for 50513_0_1_1.stl\n",
      "Generated X3D for 50513_1_0_1.stl\n",
      "Generated HTML for 50513_1_0_1.stl\n",
      "Generated X3D for 50513_0_0_1.stl\n",
      "Generated HTML for 50513_0_0_1.stl\n",
      "Stored index.html.\n"
     ]
    }
   ],
   "source": [
    "ThreeD.create_website(STLFOLDER, X3DFOLDER, [50513])"
   ]
  },
  {
   "cell_type": "code",
   "execution_count": null,
   "metadata": {
    "collapsed": true
   },
   "outputs": [],
   "source": []
  }
 ],
 "metadata": {
  "kernelspec": {
   "display_name": "Python 2",
   "language": "python",
   "name": "python2"
  },
  "language_info": {
   "codemirror_mode": {
    "name": "ipython",
    "version": 2
   },
   "file_extension": ".py",
   "mimetype": "text/x-python",
   "name": "python",
   "nbconvert_exporter": "python",
   "pygments_lexer": "ipython2",
   "version": "2.7.6"
  }
 },
 "nbformat": 4,
 "nbformat_minor": 0
}

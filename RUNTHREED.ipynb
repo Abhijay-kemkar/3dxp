{
 "cells": [
  {
   "cell_type": "code",
   "execution_count": 1,
   "metadata": {
    "collapsed": false
   },
   "outputs": [],
   "source": [
    "%load_ext autoreload\n",
    "%autoreload 2\n",
    "\n",
    "from threed import ThreeD"
   ]
  },
  {
   "cell_type": "code",
   "execution_count": 2,
   "metadata": {
    "collapsed": true
   },
   "outputs": [],
   "source": [
    "DATA = '/home/d/data/toufiq/segmentation.h5'\n",
    "STLFOLDER = '/tmp/threeDNEW/'\n",
    "X3DFOLDER = '/tmp/x3dNEW/'"
   ]
  },
  {
   "cell_type": "code",
   "execution_count": null,
   "metadata": {
    "collapsed": false
   },
   "outputs": [
    {
     "name": "stdout",
     "output_type": "stream",
     "text": [
      "Loaded data..\n",
      "Stored 1_0_0.stl\n",
      "Stored 2_0_0.stl\n",
      "Stored 3_0_0.stl\n",
      "Stored 23_0_0.stl\n",
      "Stored 25_0_0.stl\n",
      "Stored 32_0_0.stl\n",
      "Stored 33_0_0.stl\n",
      "Stored 35_0_0.stl\n",
      "Stored 42_0_0.stl\n",
      "Stored 50_0_0.stl\n",
      "Skipped 58\n",
      "Stored 479_0_0.stl\n",
      "Stored 497_0_0.stl\n",
      "Stored 498_0_0.stl\n",
      "Stored 517_0_0.stl\n",
      "Stored 563_0_0.stl\n",
      "Stored 585_0_0.stl\n",
      "Stored 601_0_0.stl\n",
      "Stored 687_0_0.stl\n",
      "Stored 688_0_0.stl\n",
      "Stored 717_0_0.stl\n",
      "Stored 741_0_0.stl\n",
      "Stored 759_0_0.stl\n",
      "Stored 806_0_0.stl\n",
      "Stored 824_0_0.stl\n",
      "Stored 828_0_0.stl\n",
      "Stored 871_0_0.stl\n",
      "Stored 975_0_0.stl\n",
      "All done.\n"
     ]
    }
   ],
   "source": [
    "ThreeD.run(DATA, 0, 0, STLFOLDER, tilewidth=200)"
   ]
  },
  {
   "cell_type": "code",
   "execution_count": null,
   "metadata": {
    "collapsed": false
   },
   "outputs": [
    {
     "name": "stdout",
     "output_type": "stream",
     "text": [
      "Loaded data..\n",
      "Stored 1_0_1.stl\n",
      "Stored 50_0_1.stl\n",
      "Stored 54_0_1.stl\n",
      "Stored 56_0_1.stl\n",
      "Stored 58_0_1.stl\n",
      "Stored 63_0_1.stl\n",
      "Stored 67_0_1.stl\n",
      "Stored 69_0_1.stl\n",
      "Stored 71_0_1.stl\n",
      "Stored 78_0_1.stl\n",
      "Stored 82_0_1.stl\n",
      "Stored 91_0_1.stl\n",
      "Stored 98_0_1.stl\n",
      "Stored 100_0_1.stl\n",
      "Stored 104_0_1.stl\n",
      "Stored 113_0_1.stl\n",
      "Stored 124_0_1.stl\n",
      "Stored 485_0_1.stl\n",
      "Stored 498_0_1.stl\n",
      "Stored 588_0_1.stl\n",
      "Stored 666_0_1.stl\n",
      "Stored 690_0_1.stl\n",
      "Stored 691_0_1.stl\n"
     ]
    }
   ],
   "source": [
    "ThreeD.run(DATA, 0, 1, STLFOLDER, tilewidth=200)"
   ]
  },
  {
   "cell_type": "code",
   "execution_count": null,
   "metadata": {
    "collapsed": false
   },
   "outputs": [],
   "source": [
    "ThreeD.run(DATA, 1, 0, STLFOLDER, tilewidth=200)"
   ]
  },
  {
   "cell_type": "code",
   "execution_count": null,
   "metadata": {
    "collapsed": false
   },
   "outputs": [],
   "source": [
    "ThreeD.create_website(STLFOLDER, X3DFOLDER, [1])"
   ]
  },
  {
   "cell_type": "code",
   "execution_count": null,
   "metadata": {
    "collapsed": true
   },
   "outputs": [],
   "source": []
  }
 ],
 "metadata": {
  "kernelspec": {
   "display_name": "Python 2",
   "language": "python",
   "name": "python2"
  },
  "language_info": {
   "codemirror_mode": {
    "name": "ipython",
    "version": 2
   },
   "file_extension": ".py",
   "mimetype": "text/x-python",
   "name": "python",
   "nbconvert_exporter": "python",
   "pygments_lexer": "ipython2",
   "version": "2.7.6"
  }
 },
 "nbformat": 4,
 "nbformat_minor": 0
}

{
 "cells": [
  {
   "cell_type": "code",
   "execution_count": 1,
   "metadata": {
    "collapsed": false
   },
   "outputs": [],
   "source": [
    "%load_ext autoreload\n",
    "%autoreload 2\n",
    "\n",
    "from threed import ThreeD"
   ]
  },
  {
   "cell_type": "code",
   "execution_count": 2,
   "metadata": {
    "collapsed": true
   },
   "outputs": [],
   "source": [
    "DATA = '/home/d/data/toufiq/segmentation.h5'\n",
    "STLFOLDER = '/tmp/threeDNEW/'\n",
    "X3DFOLDER = '/tmp/x3dNEW/'"
   ]
  },
  {
   "cell_type": "code",
   "execution_count": 3,
   "metadata": {
    "collapsed": false
   },
   "outputs": [
    {
     "name": "stdout",
     "output_type": "stream",
     "text": [
      "Loaded data..\n",
      "Stored 1_0_0.stl\n",
      "Stored 2_0_0.stl\n",
      "Stored 3_0_0.stl\n",
      "Stored 23_0_0.stl\n",
      "Stored 25_0_0.stl\n",
      "Stored 32_0_0.stl\n",
      "Stored 33_0_0.stl\n",
      "Stored 35_0_0.stl\n",
      "Stored 42_0_0.stl\n",
      "Stored 50_0_0.stl\n",
      "Skipped 58\n",
      "Stored 479_0_0.stl\n",
      "Stored 497_0_0.stl\n",
      "Stored 498_0_0.stl\n",
      "Stored 517_0_0.stl\n",
      "Stored 563_0_0.stl\n",
      "Stored 585_0_0.stl\n",
      "Stored 601_0_0.stl\n",
      "Stored 687_0_0.stl\n",
      "Stored 688_0_0.stl\n",
      "Stored 717_0_0.stl\n",
      "Stored 741_0_0.stl\n",
      "Stored 759_0_0.stl\n",
      "Stored 806_0_0.stl\n",
      "Stored 824_0_0.stl\n",
      "Stored 828_0_0.stl\n",
      "Stored 871_0_0.stl\n",
      "Stored 975_0_0.stl\n",
      "All done.\n"
     ]
    }
   ],
   "source": [
    "ThreeD.run(DATA, 0, 0, STLFOLDER, tilewidth=200)"
   ]
  },
  {
   "cell_type": "code",
   "execution_count": 4,
   "metadata": {
    "collapsed": false
   },
   "outputs": [
    {
     "name": "stdout",
     "output_type": "stream",
     "text": [
      "Loaded data..\n",
      "Stored 1_0_1.stl\n",
      "Stored 50_0_1.stl\n",
      "Stored 54_0_1.stl\n",
      "Stored 56_0_1.stl\n",
      "Stored 58_0_1.stl\n",
      "Stored 63_0_1.stl\n",
      "Stored 67_0_1.stl\n",
      "Stored 69_0_1.stl\n",
      "Stored 71_0_1.stl\n",
      "Stored 78_0_1.stl\n",
      "Stored 82_0_1.stl\n",
      "Stored 91_0_1.stl\n",
      "Stored 98_0_1.stl\n",
      "Stored 100_0_1.stl\n",
      "Stored 104_0_1.stl\n",
      "Stored 113_0_1.stl\n",
      "Stored 124_0_1.stl\n",
      "Stored 485_0_1.stl\n",
      "Stored 498_0_1.stl\n",
      "Stored 588_0_1.stl\n",
      "Stored 666_0_1.stl\n",
      "Stored 690_0_1.stl\n",
      "Stored 691_0_1.stl\n",
      "Stored 720_0_1.stl\n",
      "Stored 741_0_1.stl\n",
      "Stored 760_0_1.stl\n",
      "Stored 781_0_1.stl\n",
      "Stored 782_0_1.stl\n",
      "Stored 783_0_1.stl\n",
      "Stored 806_0_1.stl\n",
      "Stored 832_0_1.stl\n",
      "Stored 913_0_1.stl\n",
      "Stored 955_0_1.stl\n",
      "All done.\n"
     ]
    }
   ],
   "source": [
    "ThreeD.run(DATA, 0, 1, STLFOLDER, tilewidth=200)"
   ]
  },
  {
   "cell_type": "code",
   "execution_count": 5,
   "metadata": {
    "collapsed": false
   },
   "outputs": [
    {
     "name": "stdout",
     "output_type": "stream",
     "text": [
      "Loaded data..\n",
      "Stored 1_1_0.stl\n",
      "Stored 3_1_0.stl\n",
      "Stored 4_1_0.stl\n",
      "Stored 28_1_0.stl\n",
      "Stored 32_1_0.stl\n",
      "Stored 43_1_0.stl\n",
      "Stored 58_1_0.stl\n",
      "Stored 140_1_0.stl\n",
      "Stored 445_1_0.stl\n",
      "Stored 478_1_0.stl\n",
      "Stored 479_1_0.stl\n",
      "Stored 520_1_0.stl\n",
      "Stored 562_1_0.stl\n",
      "Stored 601_1_0.stl\n",
      "Stored 688_1_0.stl\n",
      "Stored 739_1_0.stl\n",
      "Stored 804_1_0.stl\n",
      "Skipped 950\n",
      "Stored 1001_1_0.stl\n",
      "All done.\n"
     ]
    }
   ],
   "source": [
    "ThreeD.run(DATA, 1, 0, STLFOLDER, tilewidth=200)"
   ]
  },
  {
   "cell_type": "code",
   "execution_count": 7,
   "metadata": {
    "collapsed": false
   },
   "outputs": [
    {
     "name": "stdout",
     "output_type": "stream",
     "text": [
      "Generated X3D for 1001_1_0.stl\n",
      "Generated HTML for 1001_1_0.stl\n",
      "Generated X3D for 100_0_1.stl\n",
      "Generated HTML for 100_0_1.stl\n",
      "Generated X3D for 104_0_1.stl\n",
      "Generated HTML for 104_0_1.stl\n",
      "Generated X3D for 113_0_1.stl\n",
      "Generated HTML for 113_0_1.stl\n",
      "Generated X3D for 124_0_1.stl\n",
      "Generated HTML for 124_0_1.stl\n",
      "Generated X3D for 140_1_0.stl\n",
      "Generated HTML for 140_1_0.stl\n",
      "Generated X3D for 1_0_0.stl\n",
      "Generated HTML for 1_0_0.stl\n",
      "Generated X3D for 1_0_1.stl\n",
      "Generated HTML for 1_0_1.stl\n",
      "Generated X3D for 1_1_0.stl\n",
      "Generated HTML for 1_1_0.stl\n",
      "Generated X3D for 23_0_0.stl\n",
      "Generated HTML for 23_0_0.stl\n",
      "Generated X3D for 25_0_0.stl\n",
      "Generated HTML for 25_0_0.stl\n",
      "Generated X3D for 28_1_0.stl\n",
      "Generated HTML for 28_1_0.stl\n",
      "Generated X3D for 2_0_0.stl\n",
      "Generated HTML for 2_0_0.stl\n",
      "Generated X3D for 32_0_0.stl\n",
      "Generated HTML for 32_0_0.stl\n",
      "Generated X3D for 32_1_0.stl\n",
      "Generated HTML for 32_1_0.stl\n",
      "Generated X3D for 33_0_0.stl\n",
      "Generated HTML for 33_0_0.stl\n",
      "Generated X3D for 35_0_0.stl\n",
      "Generated HTML for 35_0_0.stl\n",
      "Generated X3D for 3_0_0.stl\n",
      "Generated HTML for 3_0_0.stl\n",
      "Generated X3D for 3_1_0.stl\n",
      "Generated HTML for 3_1_0.stl\n",
      "Generated X3D for 42_0_0.stl\n",
      "Generated HTML for 42_0_0.stl\n",
      "Generated X3D for 43_1_0.stl\n",
      "Generated HTML for 43_1_0.stl\n",
      "Generated X3D for 445_1_0.stl\n",
      "Generated HTML for 445_1_0.stl\n",
      "Generated X3D for 478_1_0.stl\n",
      "Generated HTML for 478_1_0.stl\n",
      "Generated X3D for 479_0_0.stl\n",
      "Generated HTML for 479_0_0.stl\n",
      "Generated X3D for 479_1_0.stl\n",
      "Generated HTML for 479_1_0.stl\n",
      "Generated X3D for 485_0_1.stl\n",
      "Generated HTML for 485_0_1.stl\n",
      "Generated X3D for 497_0_0.stl\n",
      "Generated HTML for 497_0_0.stl\n",
      "Generated X3D for 498_0_0.stl\n",
      "Generated HTML for 498_0_0.stl\n",
      "Generated X3D for 498_0_1.stl\n",
      "Generated HTML for 498_0_1.stl\n",
      "Generated X3D for 4_1_0.stl\n",
      "Generated HTML for 4_1_0.stl\n",
      "Generated X3D for 50_0_0.stl\n",
      "Generated HTML for 50_0_0.stl\n",
      "Generated X3D for 50_0_1.stl\n",
      "Generated HTML for 50_0_1.stl\n",
      "Generated X3D for 517_0_0.stl\n",
      "Generated HTML for 517_0_0.stl\n",
      "Generated X3D for 520_1_0.stl\n",
      "Generated HTML for 520_1_0.stl\n",
      "Generated X3D for 54_0_1.stl\n",
      "Generated HTML for 54_0_1.stl\n",
      "Generated X3D for 562_1_0.stl\n",
      "Generated HTML for 562_1_0.stl\n",
      "Generated X3D for 563_0_0.stl\n",
      "Generated HTML for 563_0_0.stl\n",
      "Generated X3D for 56_0_1.stl\n",
      "Generated HTML for 56_0_1.stl\n",
      "Generated X3D for 585_0_0.stl\n",
      "Generated HTML for 585_0_0.stl\n",
      "Generated X3D for 588_0_1.stl\n",
      "Generated HTML for 588_0_1.stl\n",
      "Generated X3D for 58_0_1.stl\n",
      "Generated HTML for 58_0_1.stl\n",
      "Generated X3D for 58_1_0.stl\n",
      "Generated HTML for 58_1_0.stl\n",
      "Generated X3D for 601_0_0.stl\n",
      "Generated HTML for 601_0_0.stl\n",
      "Generated X3D for 601_1_0.stl\n",
      "Generated HTML for 601_1_0.stl\n",
      "Generated X3D for 63_0_1.stl\n",
      "Generated HTML for 63_0_1.stl\n",
      "Generated X3D for 666_0_1.stl\n",
      "Generated HTML for 666_0_1.stl\n",
      "Generated X3D for 67_0_1.stl\n",
      "Generated HTML for 67_0_1.stl\n",
      "Generated X3D for 687_0_0.stl\n",
      "Generated HTML for 687_0_0.stl\n",
      "Generated X3D for 688_0_0.stl\n",
      "Generated HTML for 688_0_0.stl\n",
      "Generated X3D for 688_1_0.stl\n",
      "Generated HTML for 688_1_0.stl\n",
      "Generated X3D for 690_0_1.stl\n",
      "Generated HTML for 690_0_1.stl\n",
      "Generated X3D for 691_0_1.stl\n",
      "Generated HTML for 691_0_1.stl\n",
      "Generated X3D for 69_0_1.stl\n",
      "Generated HTML for 69_0_1.stl\n",
      "Generated X3D for 717_0_0.stl\n",
      "Generated HTML for 717_0_0.stl\n",
      "Generated X3D for 71_0_1.stl\n",
      "Generated HTML for 71_0_1.stl\n",
      "Generated X3D for 720_0_1.stl\n",
      "Generated HTML for 720_0_1.stl\n",
      "Generated X3D for 739_1_0.stl\n",
      "Generated HTML for 739_1_0.stl\n",
      "Generated X3D for 741_0_0.stl\n",
      "Generated HTML for 741_0_0.stl\n",
      "Generated X3D for 741_0_1.stl\n",
      "Generated HTML for 741_0_1.stl\n",
      "Generated X3D for 759_0_0.stl\n",
      "Generated HTML for 759_0_0.stl\n",
      "Generated X3D for 760_0_1.stl\n",
      "Generated HTML for 760_0_1.stl\n",
      "Generated X3D for 781_0_1.stl\n",
      "Generated HTML for 781_0_1.stl\n",
      "Generated X3D for 782_0_1.stl\n",
      "Generated HTML for 782_0_1.stl\n",
      "Generated X3D for 783_0_1.stl\n",
      "Generated HTML for 783_0_1.stl\n",
      "Generated X3D for 78_0_1.stl\n",
      "Generated HTML for 78_0_1.stl\n",
      "Generated X3D for 804_1_0.stl\n",
      "Generated HTML for 804_1_0.stl\n",
      "Generated X3D for 806_0_0.stl\n",
      "Generated HTML for 806_0_0.stl\n",
      "Generated X3D for 806_0_1.stl\n",
      "Generated HTML for 806_0_1.stl\n",
      "Generated X3D for 824_0_0.stl\n",
      "Generated HTML for 824_0_0.stl\n",
      "Generated X3D for 828_0_0.stl\n",
      "Generated HTML for 828_0_0.stl\n",
      "Generated X3D for 82_0_1.stl\n",
      "Generated HTML for 82_0_1.stl\n",
      "Generated X3D for 832_0_1.stl\n",
      "Generated HTML for 832_0_1.stl\n",
      "Generated X3D for 871_0_0.stl\n",
      "Generated HTML for 871_0_0.stl\n",
      "Generated X3D for 913_0_1.stl\n",
      "Generated HTML for 913_0_1.stl\n",
      "Generated X3D for 91_0_1.stl\n",
      "Generated HTML for 91_0_1.stl\n",
      "Generated X3D for 955_0_1.stl\n",
      "Generated HTML for 955_0_1.stl\n",
      "Generated X3D for 975_0_0.stl\n",
      "Generated HTML for 975_0_0.stl\n",
      "Generated X3D for 98_0_1.stl\n",
      "Generated HTML for 98_0_1.stl\n",
      "Stored index.html.\n"
     ]
    }
   ],
   "source": [
    "ThreeD.create_website(STLFOLDER, X3DFOLDER, None)"
   ]
  },
  {
   "cell_type": "code",
   "execution_count": null,
   "metadata": {
    "collapsed": true
   },
   "outputs": [],
   "source": []
  }
 ],
 "metadata": {
  "kernelspec": {
   "display_name": "Python 2",
   "language": "python",
   "name": "python2"
  },
  "language_info": {
   "codemirror_mode": {
    "name": "ipython",
    "version": 2
   },
   "file_extension": ".py",
   "mimetype": "text/x-python",
   "name": "python",
   "nbconvert_exporter": "python",
   "pygments_lexer": "ipython2",
   "version": "2.7.6"
  }
 },
 "nbformat": 4,
 "nbformat_minor": 0
}

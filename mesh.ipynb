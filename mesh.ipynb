{
 "cells": [
  {
   "cell_type": "code",
   "execution_count": 7,
   "metadata": {
    "collapsed": true
   },
   "outputs": [],
   "source": [
    "%matplotlib inline\n",
    "import matplotlib.pyplot as plt\n",
    "\n",
    "def plot(*args,**kwargs):\n",
    "    ax = plt.figure(figsize=(5,5)).add_subplot(111)\n",
    "    getattr(ax, 'plot')(*args,**kwargs)\n",
    "    \n",
    "def imshow(*args,**kwargs):\n",
    "    ax = plt.figure(figsize=(5,5)).add_subplot(111)\n",
    "    getattr(ax, 'imshow')(*args,**kwargs)"
   ]
  },
  {
   "cell_type": "code",
   "execution_count": 8,
   "metadata": {
    "collapsed": true
   },
   "outputs": [],
   "source": [
    "import os\n",
    "import h5py\n",
    "import math\n",
    "import scipy\n",
    "import numpy as np\n",
    "from stl import mesh\n",
    "import mahotas as mh\n",
    "from skimage import measure\n",
    "\n",
    "NEURON_ID = 3036\n",
    "X_SHAPE=1024\n",
    "Y_SHAPE=1024\n",
    "Z_SHAPE = (0,75)\n",
    "SPLINE_RESOLUTION = 1/16.\n",
    "OUT_FOLDER = '/home/john/data/2017/winter/3dxp/3dxp_data/hohoho/'\n",
    "DATA = '/home/d/data/ac3x75/mojo/ids/tiles/w=00000000/'\n",
    "\n",
    "def threshold(arr, val):\n",
    "    out = np.zeros((arr.shape[0], arr.shape[1]), dtype=np.bool)\n",
    "    out[arr == val] = 1\n",
    "    return out\n",
    "\n",
    "\n",
    "thresholded_3d = np.zeros((Z_SHAPE[1], Y_SHAPE, X_SHAPE), dtype=np.bool)\n",
    "\n",
    "for SLICE in range(Z_SHAPE[0], Z_SHAPE[1]):\n",
    "\n",
    "    img = np.zeros((Y_SHAPE,X_SHAPE), dtype=np.uint64)\n",
    "    tiles = sorted(os.listdir(os.path.join(DATA, 'z='+str(SLICE).zfill(8))))\n",
    "\n",
    "\n",
    "    for t in tiles:\n",
    "\n",
    "        if t.startswith('.'):\n",
    "            continue\n",
    "\n",
    "        filepath = os.path.join(DATA, 'z='+str(SLICE).zfill(8), t)\n",
    "        y = int(t.split(',')[0].split('=')[1])\n",
    "        x = int(t.split(',')[1].split('=')[1].split('.')[0])\n",
    "        with h5py.File(filepath, 'r') as f:\n",
    "            data = f.get('IdMap')\n",
    "            img[y*512:y*512+512, x*512:x*512+512] = data\n",
    "\n",
    "    # now threshold this bad boy\n",
    "    thresholded_slice = threshold(img, NEURON_ID)\n",
    "    thresholded_3d[SLICE] = thresholded_slice\n",
    "    \n",
    "upsampled = thresholded_3d.repeat(10, axis=0)\n",
    "volume = upsampled.swapaxes(0,1)"
   ]
  },
  {
   "cell_type": "code",
   "execution_count": 42,
   "metadata": {
    "collapsed": false
   },
   "outputs": [],
   "source": [
    "class Edger:\n",
    "    def __init__(self, spots):\n",
    "\n",
    "        # Generate edge_image output and edges input \n",
    "        self.edge_image = np.zeros(spots.shape,dtype=int)\n",
    "        self.max_shape = np.array(self.edge_image.shape)-1\n",
    "        self.edges = measure.find_contours(spots, 0)\n",
    "        self.edges.sort(self.sortAll)\n",
    "\n",
    "    def run(self, edgen, old_interp):\n",
    "        y,x = zip(*edgen)\n",
    "        # get the cumulative distance along the contour\n",
    "        dist = np.sqrt((np.diff(x))**2 + (np.diff(y))**2).cumsum()[-1]\n",
    "        # build a spline representation of the contour\n",
    "        spline, u = scipy.interpolate.splprep([x, y])\n",
    "        res =  int(SPLINE_RESOLUTION * dist)\n",
    "        sampler = np.linspace(0, u[-1], res)\n",
    "\n",
    "        # resample it at smaller distance intervals\n",
    "        interp_x, interp_y = scipy.interpolate.splev(sampler, spline)\n",
    "        iy,ix = [[int(math.floor(ii)) for ii in i] for i in [interp_x,interp_y]]\n",
    "        interp = [np.clip(point,[0,0],self.max_shape) for point in zip(ix,iy)]\n",
    "\n",
    "        for j in range(1, len(interp)):\n",
    "            mh.polygon.line(interp[j-1], interp[j], self.edge_image)\n",
    "        \n",
    "        # Return spline for next slice\n",
    "        print old_interp\n",
    "        return interp\n",
    "\n",
    "    def sortAll(self,a,b):\n",
    "        xylists = [zip(*a),zip(*b)]\n",
    "        da,db = [np.array([max(v)-min(v) for v in l]) for l in xylists]\n",
    "        return 2*int((da-db < 0).all())-1\n",
    "\n",
    "    def runAll(self,old_interp):\n",
    "        self.run(self.edges[0], old_interp)\n",
    "\n",
    "class Mesher:\n",
    "    old_interp = []\n",
    "    def __init__(self,volume):\n",
    "        self.volume = volume\n",
    "        self.slice_run = range(self.volume.shape[0])\n",
    "        self.edge_vol = np.zeros(volume.shape)        \n",
    "        self.runAll()\n",
    "    def run(self,k):\n",
    "        edgy = Edger(self.volume[k])\n",
    "        self.old_interp = edgy.runAll(self.old_interp)\n",
    "        self.edge_vol[k] = edgy.edge_image\n",
    "        print 'k ',k\n",
    "    def runAll(self):\n",
    "        self.run(21)\n",
    "        self.run(22)\n",
    "        return 0\n",
    "        for sli in self.slice_run:\n",
    "            self.run(sli)"
   ]
  },
  {
   "cell_type": "code",
   "execution_count": 43,
   "metadata": {
    "collapsed": false
   },
   "outputs": [
    {
     "name": "stdout",
     "output_type": "stream",
     "text": [
      "[]\n",
      "k  21\n",
      "None\n",
      "k  22\n"
     ]
    }
   ],
   "source": [
    "meshed = Mesher(volume).edge_vol"
   ]
  },
  {
   "cell_type": "code",
   "execution_count": null,
   "metadata": {
    "collapsed": true
   },
   "outputs": [],
   "source": [
    "def store_mesh(arr, filename):\n",
    "\n",
    "    verts, faces = measure.marching_cubes(arr, 0, spacing=(1.,1.,1.),gradient_direction='ascent')\n",
    "    applied_verts = verts[faces]\n",
    "\n",
    "    mesh_data = np.zeros(applied_verts.shape[0], dtype=mesh.Mesh.dtype)\n",
    "\n",
    "    for i, v in enumerate(applied_verts):\n",
    "        mesh_data[i][1][0] = v[0]\n",
    "        mesh_data[i][1][1] = v[1]\n",
    "        mesh_data[i][1][2] = v[2]\n",
    "\n",
    "    m = mesh.Mesh(mesh_data)\n",
    "    with open(filename, 'w') as f:\n",
    "        m.save(filename, f)\n",
    "\n",
    "    return m\n",
    "\n",
    "m1 = store_mesh(meshed, OUT_FOLDER+str(NEURON_ID)+'_smooth.stl')"
   ]
  }
 ],
 "metadata": {
  "kernelspec": {
   "display_name": "Python 2",
   "language": "python",
   "name": "python2"
  },
  "language_info": {
   "codemirror_mode": {
    "name": "ipython",
    "version": 2
   },
   "file_extension": ".py",
   "mimetype": "text/x-python",
   "name": "python",
   "nbconvert_exporter": "python",
   "pygments_lexer": "ipython2",
   "version": "2.7.12"
  }
 },
 "nbformat": 4,
 "nbformat_minor": 1
}

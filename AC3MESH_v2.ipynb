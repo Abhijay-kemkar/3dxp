{
 "cells": [
  {
   "cell_type": "code",
   "execution_count": null,
   "metadata": {
    "collapsed": false
   },
   "outputs": [],
   "source": [
    "import os\n",
    "import h5py\n",
    "import mahotas as mh\n",
    "import numpy as np\n",
    "\n",
    "from skimage import measure\n",
    "from stl import mesh\n",
    "\n",
    "\n",
    "\n",
    "import matplotlib.pyplot as plt\n",
    "from matplotlib.pyplot import imshow\n",
    "%matplotlib inline"
   ]
  },
  {
   "cell_type": "code",
   "execution_count": null,
   "metadata": {
    "collapsed": true
   },
   "outputs": [],
   "source": [
    "DATA = '/home/d/data/ac3x75/mojo/ids/tiles/w=00000000/'\n"
   ]
  },
  {
   "cell_type": "code",
   "execution_count": null,
   "metadata": {
    "collapsed": false
   },
   "outputs": [],
   "source": []
  },
  {
   "cell_type": "code",
   "execution_count": null,
   "metadata": {
    "collapsed": true
   },
   "outputs": [],
   "source": [
    "def threshold(arr, val):\n",
    "    out = np.zeros((arr.shape[0], arr.shape[1]), dtype=np.bool)\n",
    "    out[arr == val] = 1\n",
    "    return out"
   ]
  },
  {
   "cell_type": "code",
   "execution_count": null,
   "metadata": {
    "collapsed": true
   },
   "outputs": [],
   "source": [
    "def store_mesh(arr, filename):\n",
    "    \n",
    "    verts, faces = measure.marching_cubes(arr, 0, spacing=(1.,1.,1.),gradient_direction='ascent')\n",
    "    applied_verts = verts[faces]\n",
    "    \n",
    "    mesh_data = np.zeros(applied_verts.shape[0], dtype=mesh.Mesh.dtype)\n",
    "    \n",
    "    print 'Converting', applied_verts.shape[0], 'vertices'\n",
    "    for i, v in enumerate(applied_verts):\n",
    "        mesh_data[i][1][0] = v[0]\n",
    "        mesh_data[i][1][1] = v[1]\n",
    "        mesh_data[i][1][2] = v[2]\n",
    "        \n",
    "    m = mesh.Mesh(mesh_data)\n",
    "    with open(filename, 'w') as f:\n",
    "        m.save(filename, f)\n",
    "        \n",
    "    print 'Saved.'\n",
    "    \n",
    "    return m"
   ]
  },
  {
   "cell_type": "code",
   "execution_count": null,
   "metadata": {
    "collapsed": false,
    "scrolled": true
   },
   "outputs": [],
   "source": [
    "NEURON_ID = 3036\n",
    "# X_SHAPE = 8192\n",
    "# Y_SHAPE = 8192\n",
    "X_SHAPE=1024\n",
    "Y_SHAPE=1024\n",
    "Z_SHAPE = (0,75)\n",
    "SPLINE_RESOLUTION = 1/16.\n",
    "\n",
    "thresholded_3d = np.zeros((Z_SHAPE[1], Y_SHAPE, X_SHAPE), dtype=np.bool)\n",
    "# threed = np.zeros((Z_SHAPE[1], Y_SHAPE, X_SHAPE), dtype=np.uint64)\n",
    "\n",
    "\n",
    "for SLICE in range(Z_SHAPE[0], Z_SHAPE[1]):\n",
    "\n",
    "    img = np.zeros((Y_SHAPE,X_SHAPE), dtype=np.uint64)\n",
    "    tiles = sorted(os.listdir(os.path.join(DATA, 'z='+str(SLICE).zfill(8))))\n",
    "    \n",
    "    \n",
    "    for t in tiles:\n",
    "        \n",
    "        if t.startswith('.'):\n",
    "            continue\n",
    "        \n",
    "        filepath = os.path.join(DATA, 'z='+str(SLICE).zfill(8), t)\n",
    "        y = int(t.split(',')[0].split('=')[1])\n",
    "        x = int(t.split(',')[1].split('=')[1].split('.')[0])\n",
    "        with h5py.File(filepath, 'r') as f:\n",
    "            data = f.get('IdMap')\n",
    "            img[y*512:y*512+512, x*512:x*512+512] = data\n",
    "\n",
    "    # now threshold this bad boy\n",
    "    thresholded_slice = threshold(img, NEURON_ID)\n",
    "    thresholded_3d[SLICE] = thresholded_slice\n",
    "#     threed[SLICE] = img\n",
    "    \n",
    "    print 'loaded', SLICE\n",
    "            "
   ]
  },
  {
   "cell_type": "code",
   "execution_count": null,
   "metadata": {
    "collapsed": false,
    "scrolled": true
   },
   "outputs": [],
   "source": [
    "imshow(thresholded_3d[0])"
   ]
  },
  {
   "cell_type": "code",
   "execution_count": null,
   "metadata": {
    "collapsed": false
   },
   "outputs": [],
   "source": [
    "upsampled = thresholded_3d.repeat(10, axis=0)"
   ]
  },
  {
   "cell_type": "code",
   "execution_count": null,
   "metadata": {
    "collapsed": false
   },
   "outputs": [],
   "source": [
    "upsampled.shape"
   ]
  },
  {
   "cell_type": "code",
   "execution_count": null,
   "metadata": {
    "collapsed": false
   },
   "outputs": [],
   "source": [
    "import math\n",
    "from skimage import measure\n",
    "import scipy.spatial as kd\n",
    "\n",
    "def relabel(array):\n",
    "    return measure.label(array+1).astype(np.uint64)-1\n",
    "\n",
    "def borderer(relabeled):\n",
    "    big_spot = np.zeros(relabeled.shape, dtype=np.bool)\n",
    "    return mh.labeled.borders(big_spot, edge)\n",
    "    "
   ]
  },
  {
   "cell_type": "code",
   "execution_count": null,
   "metadata": {
    "collapsed": false,
    "scrolled": true
   },
   "outputs": [],
   "source": [
    "\n",
    "resliced = upsampled.swapaxes(0,1)\n",
    "spots = relabel(resliced[0])\n",
    "\n",
    "edges = measure.find_contours(spots, 0) \n",
    "y,x = zip(*edges[0])\n",
    "#plt.plot(x, y, 'o')\n",
    "\n",
    "# get the cumulative distance along the contour\n",
    "dist = np.sqrt((np.diff(x))**2 + (np.diff(y))**2).cumsum()[-1]\n",
    "# build a spline representation of the contour\n",
    "spline, u = scipy.interpolate.splprep([x, y], s=0)\n",
    "sampler = np.linspace(0, u[-1], SPLINE_RESOLUTION*dist)\n",
    "\n",
    "# resample it at smaller distance intervals\n",
    "interp_x, interp_y = scipy.interpolate.splev(sampler, spline)\n",
    "ix,iy = [np.array(i,dtype=int) for i in [interp_x,interp_y]]\n",
    "edge_image = np.zeros(spots.shape,dtype=int)\n",
    "\n",
    "# plt.plot(x, y, 'o')\n",
    "# plt.plot(ix, iy, '-')\n",
    "for j in range(1,len(iy)):\n",
    "    mh.polygon.line((iy[j-1], ix[j-1]), (iy[j], ix[j]), edge_image)\n",
    "plt.figure(figsize=(10,10))\n",
    "imshow(edge_image)\n",
    "\n"
   ]
  },
  {
   "cell_type": "code",
   "execution_count": null,
   "metadata": {
    "collapsed": true
   },
   "outputs": [],
   "source": []
  },
  {
   "cell_type": "code",
   "execution_count": null,
   "metadata": {
    "collapsed": false,
    "scrolled": true
   },
   "outputs": [],
   "source": [
    "from numpy import random, meshgrid, arange\n",
    "from scipy.ndimage import map_coordinates\n",
    "\n",
    "(nx, ny, nz) = (300, 300, 750)\n",
    "A = upsampled[:,0:300,0:300].swapaxes(0,2)\n",
    "\n",
    "# random floating-point indices in [0, nz-1]\n",
    "Z = random.rand(nx, ny)*(nz-1)\n",
    "\n",
    "# regular integer indices of shape (nx,ny)\n",
    "X, Y = meshgrid(arange(nx), arange(ny), indexing='ij')\n",
    "\n",
    "coords = (X, Y, Z) # X, Y, and Z are of shape (nx, ny)\n",
    "\n",
    "len(map_coordinates(A, coords, order=1, cval=-999.))"
   ]
  },
  {
   "cell_type": "code",
   "execution_count": null,
   "metadata": {
    "collapsed": false
   },
   "outputs": [],
   "source": [
    "all_borders = 0\n",
    "\n",
    "for z in range(upsampled.shape[0]):\n",
    "    \n",
    "\n",
    "    all_borders += mh.labeled.borders(filtered[z])\n",
    "    \n",
    "plt.figure(figsize=(10,10))\n",
    "imshow(all_borders)"
   ]
  },
  {
   "cell_type": "code",
   "execution_count": null,
   "metadata": {
    "collapsed": false
   },
   "outputs": [],
   "source": [
    "all_borders = 0\n",
    "\n",
    "for z in range(upsampled.shape[0]):\n",
    "    \n",
    "\n",
    "    all_borders += mh.labeled.borders(hanning[z])\n",
    "    \n",
    "plt.figure(figsize=(10,10))\n",
    "imshow(all_borders)"
   ]
  },
  {
   "cell_type": "code",
   "execution_count": null,
   "metadata": {
    "collapsed": false
   },
   "outputs": [],
   "source": [
    "m1 = store_mesh(thresholded_3d, '/home/d/data/neurons/'+str(NEURON_ID)+'.stl')"
   ]
  },
  {
   "cell_type": "code",
   "execution_count": null,
   "metadata": {
    "collapsed": false
   },
   "outputs": [],
   "source": [
    "m1 = store_mesh(filtered, '/home/d/data/neurons/'+str(NEURON_ID)+'_smooth.stl')"
   ]
  },
  {
   "cell_type": "code",
   "execution_count": null,
   "metadata": {
    "collapsed": true
   },
   "outputs": [],
   "source": [
    "from scipy.interpolate import griddata"
   ]
  },
  {
   "cell_type": "code",
   "execution_count": null,
   "metadata": {
    "collapsed": true
   },
   "outputs": [],
   "source": [
    "grid_z = griddate((thresholded_3d[0], thresholded_3d[1], thresholded_3d[2], thresholded_3d[3]), )"
   ]
  },
  {
   "cell_type": "code",
   "execution_count": null,
   "metadata": {
    "collapsed": true
   },
   "outputs": [],
   "source": []
  }
 ],
 "metadata": {
  "kernelspec": {
   "display_name": "Python 2",
   "language": "python",
   "name": "python2"
  },
  "language_info": {
   "codemirror_mode": {
    "name": "ipython",
    "version": 2
   },
   "file_extension": ".py",
   "mimetype": "text/x-python",
   "name": "python",
   "nbconvert_exporter": "python",
   "pygments_lexer": "ipython2",
   "version": "2.7.12"
  }
 },
 "nbformat": 4,
 "nbformat_minor": 0
}
